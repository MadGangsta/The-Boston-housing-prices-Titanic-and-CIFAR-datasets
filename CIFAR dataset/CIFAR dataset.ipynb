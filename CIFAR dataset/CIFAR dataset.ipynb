{
  "nbformat": 4,
  "nbformat_minor": 0,
  "metadata": {
    "colab": {
      "provenance": [],
      "collapsed_sections": []
    },
    "kernelspec": {
      "name": "python3",
      "display_name": "Python 3"
    },
    "language_info": {
      "name": "python"
    },
    "accelerator": "GPU"
  },
  "cells": [
    {
      "cell_type": "code",
      "execution_count": 22,
      "metadata": {
        "id": "T20PvhE-ApfI"
      },
      "outputs": [],
      "source": [
        "%matplotlib inline\n",
        "import sklearn\n",
        "import numpy as np\n",
        "import pandas as pd\n",
        "import matplotlib as plt\n",
        "from tensorflow import keras\n",
        "from tensorflow.keras import layers\n",
        "import random\n",
        "from sklearn.metrics import accuracy_score, r2_score, mean_squared_error\n",
        "from tensorflow.keras import models\n",
        "from tensorflow.keras import layers\n",
        "from keras.models  import Sequential\n",
        "from keras.layers import MaxPool2D, Dense, Flatten, Dropout, Input, Conv2D,MaxPooling2D\n",
        "from tensorflow.keras.optimizers import Adamax, Adam\n",
        "import tensorflow as tf\n",
        "from matplotlib import pyplot as plt\n",
        "import ssl\n",
        "ssl._create_default_https_context = ssl._create_unverified_context\n"
      ]
    },
    {
      "cell_type": "code",
      "source": [
        "(x_train, y_train), (x_test, y_test) = tf.keras.datasets.cifar10.load_data()"
      ],
      "metadata": {
        "id": "iydDz5b8AslC"
      },
      "execution_count": 23,
      "outputs": []
    },
    {
      "cell_type": "code",
      "source": [
        "x_train.shape, x_test.shape"
      ],
      "metadata": {
        "colab": {
          "base_uri": "https://localhost:8080/"
        },
        "id": "vXLc694iCbil",
        "outputId": "05e36b47-8e7d-4ee8-f82a-b858bdc5a7ff"
      },
      "execution_count": 24,
      "outputs": [
        {
          "output_type": "execute_result",
          "data": {
            "text/plain": [
              "((50000, 32, 32, 3), (10000, 32, 32, 3))"
            ]
          },
          "metadata": {},
          "execution_count": 24
        }
      ]
    },
    {
      "cell_type": "code",
      "source": [
        "assert x_train.shape == (50000, 32, 32, 3)\n",
        "assert x_test.shape == (10000, 32, 32, 3)\n",
        "assert y_train.shape == (50000, 1)\n",
        "assert y_test.shape == (10000, 1)\n",
        "\n",
        "x_train = x_train/255\n",
        "x_test = x_test/255\n",
        "from tensorflow.keras.utils import to_categorical\n",
        "y_train_ct = to_categorical(y_train)\n",
        "y_test_ct = to_categorical(y_test)"
      ],
      "metadata": {
        "id": "8tfpjMK1TDyl"
      },
      "execution_count": 25,
      "outputs": []
    },
    {
      "cell_type": "code",
      "source": [
        "from tensorflow.keras.metrics import Recall\n",
        "epochs=75\n",
        "Adamax = keras.optimizers.Adamax(learning_rate=0.001)"
      ],
      "metadata": {
        "id": "hY-m5ynyDe8Q"
      },
      "execution_count": 26,
      "outputs": []
    },
    {
      "cell_type": "code",
      "source": [
        "model = keras.Sequential()\n",
        "model.add(Conv2D(16,  (3, 3), input_shape=x_train.shape[1:], activation = 'relu'))\n",
        "model.add(MaxPool2D(pool_size=(2, 2)))\n",
        "model.add(Conv2D(32,  (3, 3), activation = 'relu'))\n",
        "model.add(MaxPool2D(pool_size=(2, 2)))\n",
        "model.add(Conv2D(64,  (3, 3), activation = 'relu'))\n",
        "model.add(MaxPool2D(pool_size=(2, 2)))\n",
        "model.add(Flatten())\n",
        "model.add(Dense(128, activation=\"relu\"))\n",
        "model.add(Dense(10, activation=\"softmax\"))\n",
        "model.compile(optimizer = Adamax, loss = 'categorical_crossentropy', metrics = Recall())\n"
      ],
      "metadata": {
        "id": "hCyQabuDCqHh"
      },
      "execution_count": 27,
      "outputs": []
    },
    {
      "cell_type": "code",
      "source": [
        "history = model.fit(x_train, y_train_ct, epochs=epochs, validation_split=0.25, batch_size=128, shuffle=True)"
      ],
      "metadata": {
        "id": "INtpn62rNUcl",
        "colab": {
          "base_uri": "https://localhost:8080/"
        },
        "outputId": "94729dfe-8bad-4c98-9d3f-22b85c449893"
      },
      "execution_count": 28,
      "outputs": [
        {
          "output_type": "stream",
          "name": "stdout",
          "text": [
            "Epoch 1/75\n",
            "293/293 [==============================] - 3s 8ms/step - loss: 1.9441 - recall_3: 0.0171 - val_loss: 1.7615 - val_recall_3: 0.0488\n",
            "Epoch 2/75\n",
            "293/293 [==============================] - 2s 7ms/step - loss: 1.6757 - recall_3: 0.0855 - val_loss: 1.6067 - val_recall_3: 0.1084\n",
            "Epoch 3/75\n",
            "293/293 [==============================] - 2s 7ms/step - loss: 1.5518 - recall_3: 0.1455 - val_loss: 1.5111 - val_recall_3: 0.1788\n",
            "Epoch 4/75\n",
            "293/293 [==============================] - 2s 7ms/step - loss: 1.4662 - recall_3: 0.2016 - val_loss: 1.4446 - val_recall_3: 0.2130\n",
            "Epoch 5/75\n",
            "293/293 [==============================] - 2s 7ms/step - loss: 1.4087 - recall_3: 0.2439 - val_loss: 1.4139 - val_recall_3: 0.2541\n",
            "Epoch 6/75\n",
            "293/293 [==============================] - 2s 7ms/step - loss: 1.3553 - recall_3: 0.2819 - val_loss: 1.3676 - val_recall_3: 0.2786\n",
            "Epoch 7/75\n",
            "293/293 [==============================] - 2s 7ms/step - loss: 1.3213 - recall_3: 0.3077 - val_loss: 1.3215 - val_recall_3: 0.2962\n",
            "Epoch 8/75\n",
            "293/293 [==============================] - 2s 7ms/step - loss: 1.2815 - recall_3: 0.3344 - val_loss: 1.2861 - val_recall_3: 0.3381\n",
            "Epoch 9/75\n",
            "293/293 [==============================] - 2s 7ms/step - loss: 1.2442 - recall_3: 0.3580 - val_loss: 1.2568 - val_recall_3: 0.3526\n",
            "Epoch 10/75\n",
            "293/293 [==============================] - 2s 7ms/step - loss: 1.2153 - recall_3: 0.3780 - val_loss: 1.2364 - val_recall_3: 0.3633\n",
            "Epoch 11/75\n",
            "293/293 [==============================] - 2s 6ms/step - loss: 1.1885 - recall_3: 0.3944 - val_loss: 1.2186 - val_recall_3: 0.3871\n",
            "Epoch 12/75\n",
            "293/293 [==============================] - 2s 7ms/step - loss: 1.1581 - recall_3: 0.4163 - val_loss: 1.1986 - val_recall_3: 0.3966\n",
            "Epoch 13/75\n",
            "293/293 [==============================] - 2s 7ms/step - loss: 1.1448 - recall_3: 0.4283 - val_loss: 1.2088 - val_recall_3: 0.3958\n",
            "Epoch 14/75\n",
            "293/293 [==============================] - 2s 7ms/step - loss: 1.1183 - recall_3: 0.4408 - val_loss: 1.1571 - val_recall_3: 0.4385\n",
            "Epoch 15/75\n",
            "293/293 [==============================] - 2s 8ms/step - loss: 1.0985 - recall_3: 0.4556 - val_loss: 1.1368 - val_recall_3: 0.4385\n",
            "Epoch 16/75\n",
            "293/293 [==============================] - 2s 6ms/step - loss: 1.0794 - recall_3: 0.4655 - val_loss: 1.1391 - val_recall_3: 0.4438\n",
            "Epoch 17/75\n",
            "293/293 [==============================] - 2s 8ms/step - loss: 1.0604 - recall_3: 0.4786 - val_loss: 1.1185 - val_recall_3: 0.4590\n",
            "Epoch 18/75\n",
            "293/293 [==============================] - 2s 7ms/step - loss: 1.0477 - recall_3: 0.4835 - val_loss: 1.1168 - val_recall_3: 0.4592\n",
            "Epoch 19/75\n",
            "293/293 [==============================] - 2s 7ms/step - loss: 1.0263 - recall_3: 0.4965 - val_loss: 1.0926 - val_recall_3: 0.4678\n",
            "Epoch 20/75\n",
            "293/293 [==============================] - 2s 7ms/step - loss: 1.0125 - recall_3: 0.5039 - val_loss: 1.0910 - val_recall_3: 0.4801\n",
            "Epoch 21/75\n",
            "293/293 [==============================] - 2s 7ms/step - loss: 0.9940 - recall_3: 0.5159 - val_loss: 1.0839 - val_recall_3: 0.4920\n",
            "Epoch 22/75\n",
            "293/293 [==============================] - 2s 8ms/step - loss: 0.9816 - recall_3: 0.5254 - val_loss: 1.0736 - val_recall_3: 0.4974\n",
            "Epoch 23/75\n",
            "293/293 [==============================] - 2s 7ms/step - loss: 0.9694 - recall_3: 0.5300 - val_loss: 1.0563 - val_recall_3: 0.5077\n",
            "Epoch 24/75\n",
            "293/293 [==============================] - 2s 7ms/step - loss: 0.9498 - recall_3: 0.5407 - val_loss: 1.0642 - val_recall_3: 0.5039\n",
            "Epoch 25/75\n",
            "293/293 [==============================] - 2s 8ms/step - loss: 0.9375 - recall_3: 0.5483 - val_loss: 1.0745 - val_recall_3: 0.5145\n",
            "Epoch 26/75\n",
            "293/293 [==============================] - 2s 7ms/step - loss: 0.9258 - recall_3: 0.5543 - val_loss: 1.0491 - val_recall_3: 0.5213\n",
            "Epoch 27/75\n",
            "293/293 [==============================] - 2s 8ms/step - loss: 0.9145 - recall_3: 0.5617 - val_loss: 1.0290 - val_recall_3: 0.5248\n",
            "Epoch 28/75\n",
            "293/293 [==============================] - 2s 7ms/step - loss: 0.9067 - recall_3: 0.5663 - val_loss: 1.0569 - val_recall_3: 0.5184\n",
            "Epoch 29/75\n",
            "293/293 [==============================] - 2s 7ms/step - loss: 0.8935 - recall_3: 0.5728 - val_loss: 1.0560 - val_recall_3: 0.5304\n",
            "Epoch 30/75\n",
            "293/293 [==============================] - 2s 8ms/step - loss: 0.8857 - recall_3: 0.5798 - val_loss: 1.0499 - val_recall_3: 0.5262\n",
            "Epoch 31/75\n",
            "293/293 [==============================] - 2s 8ms/step - loss: 0.8723 - recall_3: 0.5838 - val_loss: 1.0203 - val_recall_3: 0.5465\n",
            "Epoch 32/75\n",
            "293/293 [==============================] - 2s 8ms/step - loss: 0.8627 - recall_3: 0.5918 - val_loss: 1.0135 - val_recall_3: 0.5422\n",
            "Epoch 33/75\n",
            "293/293 [==============================] - 2s 7ms/step - loss: 0.8525 - recall_3: 0.5975 - val_loss: 1.0360 - val_recall_3: 0.5430\n",
            "Epoch 34/75\n",
            "293/293 [==============================] - 2s 7ms/step - loss: 0.8458 - recall_3: 0.5991 - val_loss: 1.0242 - val_recall_3: 0.5471\n",
            "Epoch 35/75\n",
            "293/293 [==============================] - 2s 7ms/step - loss: 0.8296 - recall_3: 0.6106 - val_loss: 0.9979 - val_recall_3: 0.5587\n",
            "Epoch 36/75\n",
            "293/293 [==============================] - 2s 7ms/step - loss: 0.8212 - recall_3: 0.6151 - val_loss: 1.0094 - val_recall_3: 0.5607\n",
            "Epoch 37/75\n",
            "293/293 [==============================] - 2s 7ms/step - loss: 0.8104 - recall_3: 0.6178 - val_loss: 1.0076 - val_recall_3: 0.5636\n",
            "Epoch 38/75\n",
            "293/293 [==============================] - 2s 7ms/step - loss: 0.7994 - recall_3: 0.6272 - val_loss: 1.0206 - val_recall_3: 0.5693\n",
            "Epoch 39/75\n",
            "293/293 [==============================] - 2s 7ms/step - loss: 0.7935 - recall_3: 0.6288 - val_loss: 1.0114 - val_recall_3: 0.5710\n",
            "Epoch 40/75\n",
            "293/293 [==============================] - 2s 7ms/step - loss: 0.7859 - recall_3: 0.6344 - val_loss: 1.0189 - val_recall_3: 0.5577\n",
            "Epoch 41/75\n",
            "293/293 [==============================] - 2s 8ms/step - loss: 0.7787 - recall_3: 0.6384 - val_loss: 0.9961 - val_recall_3: 0.5771\n",
            "Epoch 42/75\n",
            "293/293 [==============================] - 2s 8ms/step - loss: 0.7646 - recall_3: 0.6448 - val_loss: 0.9862 - val_recall_3: 0.5850\n",
            "Epoch 43/75\n",
            "293/293 [==============================] - 2s 7ms/step - loss: 0.7613 - recall_3: 0.6456 - val_loss: 0.9961 - val_recall_3: 0.5779\n",
            "Epoch 44/75\n",
            "293/293 [==============================] - 2s 7ms/step - loss: 0.7498 - recall_3: 0.6507 - val_loss: 0.9765 - val_recall_3: 0.5818\n",
            "Epoch 45/75\n",
            "293/293 [==============================] - 2s 7ms/step - loss: 0.7444 - recall_3: 0.6549 - val_loss: 0.9930 - val_recall_3: 0.5834\n",
            "Epoch 46/75\n",
            "293/293 [==============================] - 2s 7ms/step - loss: 0.7334 - recall_3: 0.6610 - val_loss: 1.0236 - val_recall_3: 0.5726\n",
            "Epoch 47/75\n",
            "293/293 [==============================] - 2s 7ms/step - loss: 0.7291 - recall_3: 0.6639 - val_loss: 0.9769 - val_recall_3: 0.5906\n",
            "Epoch 48/75\n",
            "293/293 [==============================] - 2s 7ms/step - loss: 0.7167 - recall_3: 0.6681 - val_loss: 0.9756 - val_recall_3: 0.5922\n",
            "Epoch 49/75\n",
            "293/293 [==============================] - 2s 7ms/step - loss: 0.7088 - recall_3: 0.6749 - val_loss: 1.0083 - val_recall_3: 0.5906\n",
            "Epoch 50/75\n",
            "293/293 [==============================] - 2s 7ms/step - loss: 0.7012 - recall_3: 0.6766 - val_loss: 1.0025 - val_recall_3: 0.5927\n",
            "Epoch 51/75\n",
            "293/293 [==============================] - 2s 8ms/step - loss: 0.6963 - recall_3: 0.6791 - val_loss: 0.9885 - val_recall_3: 0.5977\n",
            "Epoch 52/75\n",
            "293/293 [==============================] - 2s 7ms/step - loss: 0.6867 - recall_3: 0.6846 - val_loss: 0.9810 - val_recall_3: 0.5962\n",
            "Epoch 53/75\n",
            "293/293 [==============================] - 2s 7ms/step - loss: 0.6820 - recall_3: 0.6878 - val_loss: 0.9948 - val_recall_3: 0.5982\n",
            "Epoch 54/75\n",
            "293/293 [==============================] - 2s 7ms/step - loss: 0.6738 - recall_3: 0.6917 - val_loss: 1.0210 - val_recall_3: 0.5956\n",
            "Epoch 55/75\n",
            "293/293 [==============================] - 2s 7ms/step - loss: 0.6649 - recall_3: 0.6948 - val_loss: 0.9781 - val_recall_3: 0.6010\n",
            "Epoch 56/75\n",
            "293/293 [==============================] - 2s 7ms/step - loss: 0.6601 - recall_3: 0.7010 - val_loss: 0.9910 - val_recall_3: 0.6006\n",
            "Epoch 57/75\n",
            "293/293 [==============================] - 2s 7ms/step - loss: 0.6522 - recall_3: 0.7018 - val_loss: 0.9871 - val_recall_3: 0.6040\n",
            "Epoch 58/75\n",
            "293/293 [==============================] - 2s 7ms/step - loss: 0.6418 - recall_3: 0.7062 - val_loss: 1.0117 - val_recall_3: 0.6020\n",
            "Epoch 59/75\n",
            "293/293 [==============================] - 2s 7ms/step - loss: 0.6402 - recall_3: 0.7085 - val_loss: 0.9895 - val_recall_3: 0.6134\n",
            "Epoch 60/75\n",
            "293/293 [==============================] - 2s 7ms/step - loss: 0.6343 - recall_3: 0.7112 - val_loss: 1.0124 - val_recall_3: 0.6122\n",
            "Epoch 61/75\n",
            "293/293 [==============================] - 2s 8ms/step - loss: 0.6263 - recall_3: 0.7144 - val_loss: 1.0032 - val_recall_3: 0.6090\n",
            "Epoch 62/75\n",
            "293/293 [==============================] - 2s 7ms/step - loss: 0.6194 - recall_3: 0.7170 - val_loss: 1.0143 - val_recall_3: 0.6130\n",
            "Epoch 63/75\n",
            "293/293 [==============================] - 2s 7ms/step - loss: 0.6183 - recall_3: 0.7210 - val_loss: 1.0002 - val_recall_3: 0.6078\n",
            "Epoch 64/75\n",
            "293/293 [==============================] - 2s 7ms/step - loss: 0.6070 - recall_3: 0.7242 - val_loss: 1.0043 - val_recall_3: 0.6173\n",
            "Epoch 65/75\n",
            "293/293 [==============================] - 2s 7ms/step - loss: 0.6013 - recall_3: 0.7291 - val_loss: 1.0245 - val_recall_3: 0.6149\n",
            "Epoch 66/75\n",
            "293/293 [==============================] - 2s 8ms/step - loss: 0.5974 - recall_3: 0.7295 - val_loss: 1.0106 - val_recall_3: 0.6139\n",
            "Epoch 67/75\n",
            "293/293 [==============================] - 2s 7ms/step - loss: 0.5891 - recall_3: 0.7351 - val_loss: 1.0030 - val_recall_3: 0.6238\n",
            "Epoch 68/75\n",
            "293/293 [==============================] - 2s 7ms/step - loss: 0.5814 - recall_3: 0.7359 - val_loss: 1.0152 - val_recall_3: 0.6102\n",
            "Epoch 69/75\n",
            "293/293 [==============================] - 2s 7ms/step - loss: 0.5773 - recall_3: 0.7405 - val_loss: 1.0350 - val_recall_3: 0.6150\n",
            "Epoch 70/75\n",
            "293/293 [==============================] - 2s 7ms/step - loss: 0.5689 - recall_3: 0.7425 - val_loss: 1.0224 - val_recall_3: 0.6249\n",
            "Epoch 71/75\n",
            "293/293 [==============================] - 2s 7ms/step - loss: 0.5633 - recall_3: 0.7486 - val_loss: 1.0197 - val_recall_3: 0.6246\n",
            "Epoch 72/75\n",
            "293/293 [==============================] - 2s 7ms/step - loss: 0.5575 - recall_3: 0.7518 - val_loss: 1.0127 - val_recall_3: 0.6260\n",
            "Epoch 73/75\n",
            "293/293 [==============================] - 2s 7ms/step - loss: 0.5503 - recall_3: 0.7527 - val_loss: 1.0298 - val_recall_3: 0.6227\n",
            "Epoch 74/75\n",
            "293/293 [==============================] - 2s 7ms/step - loss: 0.5465 - recall_3: 0.7557 - val_loss: 1.0327 - val_recall_3: 0.6222\n",
            "Epoch 75/75\n",
            "293/293 [==============================] - 2s 8ms/step - loss: 0.5439 - recall_3: 0.7569 - val_loss: 1.0279 - val_recall_3: 0.6274\n"
          ]
        }
      ]
    },
    {
      "cell_type": "code",
      "source": [
        "y_pred = model.predict(x_test)"
      ],
      "metadata": {
        "id": "_Cv6uxVxUzUt"
      },
      "execution_count": 29,
      "outputs": []
    },
    {
      "cell_type": "code",
      "source": [
        "model.evaluate(x_test,y_test_ct,)"
      ],
      "metadata": {
        "colab": {
          "base_uri": "https://localhost:8080/"
        },
        "id": "AScE6kBBZXbX",
        "outputId": "23bfe280-d99e-41b9-8fe5-e772f7c8fdd8"
      },
      "execution_count": 30,
      "outputs": [
        {
          "output_type": "stream",
          "name": "stdout",
          "text": [
            "313/313 [==============================] - 1s 3ms/step - loss: 1.0091 - recall_3: 0.6319\n"
          ]
        },
        {
          "output_type": "execute_result",
          "data": {
            "text/plain": [
              "[1.0090570449829102, 0.6319000124931335]"
            ]
          },
          "metadata": {},
          "execution_count": 30
        }
      ]
    },
    {
      "cell_type": "code",
      "source": [
        "train_loss = history.history['loss']\n",
        "val_loss = history.history['val_loss']"
      ],
      "metadata": {
        "id": "_Wr0pEpTYOHN"
      },
      "execution_count": 31,
      "outputs": []
    },
    {
      "cell_type": "code",
      "source": [
        "plt.rcParams.update({'font.size': 14})\n",
        "plt.figure(figsize=(10, 7))\n",
        "plt.plot(range(0, epochs), train_loss, 'ro--', label='Train loss');\n",
        "plt.plot(range(0, epochs), val_loss, 'bo--',label='Val loss');\n",
        "plt.xlabel('Epochs')\n",
        "plt.ylabel('Loss')\n",
        "plt.grid()\n",
        "plt.legend()"
      ],
      "metadata": {
        "id": "ZKtBTobTYOoc",
        "colab": {
          "base_uri": "https://localhost:8080/",
          "height": 469
        },
        "outputId": "6d821a12-1d3a-4b8a-90d8-e7afe106fc00"
      },
      "execution_count": 32,
      "outputs": [
        {
          "output_type": "execute_result",
          "data": {
            "text/plain": [
              "<matplotlib.legend.Legend at 0x7f6a2e2a98d0>"
            ]
          },
          "metadata": {},
          "execution_count": 32
        },
        {
          "output_type": "display_data",
          "data": {
            "text/plain": [
              "<Figure size 720x504 with 1 Axes>"
            ],
            "image/png": "[encoded data removed]"
          },
          "metadata": {
            "needs_background": "light"
          }
        }
      ]
    },
    {
      "cell_type": "markdown",
      "source": [],
      "metadata": {
        "id": "1_k7cOvXEUSe"
      }
    }
  ]
}